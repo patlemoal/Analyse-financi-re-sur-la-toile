{
 "cells": [
  {
   "cell_type": "markdown",
   "metadata": {},
   "source": [
    "# <center>Autoscraper v1.1.12</center>\n",
    "\n",
    "#### <center>Outil de scraping</center>"
   ]
  },
  {
   "cell_type": "markdown",
   "metadata": {},
   "source": [
    "## Installation"
   ]
  },
  {
   "cell_type": "markdown",
   "metadata": {},
   "source": [
    "Compatible avec python 3.   \n",
    "\n",
    "Deux façons de l'installer:\n",
    "\n",
    "- Installation de la dernière version à partir du repertoire git:\n",
    "\n",
    "```bash\n",
    "pip install git+https://github.com/alirezamika/autoscraper.git\n",
    "```\n",
    "\n",
    "- Installation via PyPi:\n",
    "\n",
    "```bash\n",
    "pip install autoscraper\n",
    "```"
   ]
  },
  {
   "cell_type": "markdown",
   "metadata": {},
   "source": [
    "## Utilisation"
   ]
  },
  {
   "cell_type": "code",
   "execution_count": 15,
   "metadata": {},
   "outputs": [
    {
     "name": "stdout",
     "output_type": "stream",
     "text": [
      "['How do I merge two dictionaries in a single expression (taking union of dictionaries)?', 'How to execute a program or call a system command from Python', 'What are metaclasses in Python?', 'Does Python have a ternary conditional operator?', 'How do you remove duplicates from a list whilst preserving order?', 'Convert bytes to a string', 'How to get line count of a large file cheaply in Python?', \"Does Python have a string 'contains' substring method?\", 'Why is “1000000000000000 in range(1000000000000001)” so fast in Python 3?']\n"
     ]
    }
   ],
   "source": [
    "from autoscraper import AutoScraper\n",
    "\n",
    "url = 'https://stackoverflow.com/questions/2081586/web-scraping-with-python'\n",
    "\n",
    "# On peut ajouter un ou plusieurs arguments.\n",
    "# On peut également ajouter des urls.\n",
    "wanted_list = [\"What are metaclasses in Python?\"]\n",
    "\n",
    "scraper = AutoScraper()\n",
    "result = scraper.build(url, wanted_list)\n",
    "print(result)"
   ]
  },
  {
   "cell_type": "markdown",
   "metadata": {},
   "source": [
    "Désormais l'objet `scraper` peut être utilisé avec d'autres résultats de recherches sur StackOverflow."
   ]
  },
  {
   "cell_type": "code",
   "execution_count": 16,
   "metadata": {},
   "outputs": [
    {
     "data": {
      "text/plain": [
       "['What is the difference between String and string in C#?',\n",
       " 'How do I read / convert an InputStream into a String in Java?',\n",
       " \"Case insensitive 'Contains(string)'\",\n",
       " 'How do I make the first letter of a string uppercase in JavaScript?',\n",
       " 'How to replace all occurrences of a string in Javascript?',\n",
       " 'How to check whether a string contains a substring in JavaScript?',\n",
       " \"Does Python have a string 'contains' substring method?\",\n",
       " 'How do I convert a String to an int in Java?',\n",
       " 'Best way to convert string to bytes in Python 3?',\n",
       " 'Why is char[] preferred over String for passwords?']"
      ]
     },
     "execution_count": 16,
     "metadata": {},
     "output_type": "execute_result"
    }
   ],
   "source": [
    "scraper.get_result_similar('https://stackoverflow.com/questions/606191/convert-bytes-to-a-string')"
   ]
  },
  {
   "cell_type": "markdown",
   "metadata": {},
   "source": [
    "Autre exemple avec les articles sur la page d'accueil du journal LeMonde."
   ]
  },
  {
   "cell_type": "code",
   "execution_count": 19,
   "metadata": {},
   "outputs": [
    {
     "name": "stdout",
     "output_type": "stream",
     "text": [
      "['Au Nigeria, le port de Lagos en proie à un « chaos absolu »', 'Matières premières : « La hausse des cours n’est pas de nature à faire dérailler la croissance »', 'Matières premières : un nouvel âge du fer, sous emprise chinoise', 'Les cours du pétrole s’emballent, dans un climat d’incertitudes', 'Coup de chaud sur les matières premières', 'L’Australien Mathias Cormann choisi pour prendre la tête de l’OCDE', 'La sécheresse à Taïwan, une nouvelle menace sur la production des puces électroniques', 'Au Mexique, « AMLO » reprend la main sur le secteur de l’électricité, aux dépens des énergies renouvelables privées', 'Pour l’OCDE, la reprise économique mondiale passe par une accélération de la vaccination contre le Covid-19', 'En Espagne, le gouvernement prêt à débloquer des aides directes pour éviter une vague de faillites', 'Négociations commerciales avec la grande distribution : « Les éleveurs de poules pondeuses courroucés »', 'Etats-Unis : un plan de soutien économique mal calibré', 'L’Europe et les Etats-Unis signent une trêve dans leur conflit commercial', 'Veolia estime que la direction de Suez vide l’entreprise d’« actifs stratégiques »', 'Vente de l’usine calédonienne de nickel de Goro : « Mais que vient donc faire Elon Musk dans cette galère? »', 'La prudence de l’OPEP dope les cours du pétrole', 'Avec son climat tropical et un cadre fiscal avantageux, Xi Jinping rêve de faire de l’île de Hainan un Hawaï asiatique', 'Après la pandémie de Covid-19, le Royaume-Uni prévoit une forte hausse d’impôts', 'L’Etat et les Duval s’opposent sur le sort de la PDG du groupe métallurgique et minier Eramet', 'Accord politique en Nouvelle-Calédonie pour le rachat de l’usine de nickel Vale, à l’arrêt depuis le 10 décembre', 'OMC : « Ngozi Okonjo-Iweala donne à l’Afrique l’espoir d’être prise au sérieux lorsqu’elle réclame des règles du jeu équitables »', 'L’Europe prête à prolonger la suspension du pacte de stabilité jusqu’à fin 2022', '« La “bataille” d’Ellesmere Port cache l’enjeu du maintien de l’un des derniers socles industriels du Royaume-Uni »', 'La légère hausse de l’inflation dans la zone euro inquiète peu', '« Au fond, Pékin souhaite-t-il vraiment déclarer la guerre des terres rares ? »', 'A Beyrouth, la tour Skyline, « symbole de l’horreur du 4 août »', '« Comme les autres sociétés de conseil, McKinsey est régulièrement accusé d’entrisme dans le monde des affaires et de la politique »', 'La politique commerciale de Joe Biden s’annonce dure mais dans le respect des règles', '« Les marchés financiers sont devenus moins représentatifs de l’économie réelle et de la répartition des emplois »', 'La crainte de l’inflation provoque une brutale remontée des taux aux Etats-Unis et fait chuter Wall Street', 'Dopées par la pandémie, les plates-formes d’e-commerce de luxe se livrent une bataille sans merci', 'La fulgurante envolée de l’éolien au Texas', '« Le plan de relance de Joe Biden risque de faire ressurgir un fantôme disparu : l’inflation »', '« L’Amérique de Joe Biden s’apprête à défendre son rang de première puissance économique mondiale »', '« Le bitcoin rappelle que la confiance dans la monnaie n’est pas immuable »', 'Le marché du bitcoin dépasse les 1 000 milliards de dollars, faisant craindre l’explosion de la bulle', '« Les investisseurs, gagnés par la fièvre acheteuse, font flamber les cours de l’étain »', 'L’Australie remontée par le « black-out » de Facebook', '« Nous n’avons plus aucun revenu » : l’arrêt de la contrebande plombe l’économie du nord du Maroc', 'Covid-19 : Airbus limite les dégâts sur ses comptes', '« En Chine, le gouvernement prépare les esprits à un report de l’âge de la retraite »', 'La lutte contre le Covid-19, priorité de la nouvelle dirigeante de l’OMC Ngozi Okonjo-Iweala', 'La Nigériane Ngozi Okonjo-Iweala nommée directrice générale de l’Organisation mondiale du commerce', '« Vivendi va perdre d’un coup le seul domaine où il pouvait prétendre à un leadership mondial »', 'Le PIB du Japon a chuté de 4,8 % en 2020, sa première contraction annuelle depuis 2009', '« Secouée depuis deux ou trois ans, l’industrie sucrière espère retrouver son allant »', 'La ruée vers Chami, « capitale de l’or » en Mauritanie', 'Pour se rassurer, le secteur de l’hôtellerie se tourne vers la Chine', 'Qu’est-ce que « The Great Reset », un livre devenu théorie du complot ?', '« C’est injuste de voir un tel gaspillage » : en Libye, l’économie dévastée par dix ans de guerre', 'Climat : « Les banques centrales ne doivent plus attendre pour agir »', 'Ngozi Okonjo-Iweala seule en lice pour prendre la tête de l’OMC', 'En Côte d’Ivoire, la crise du cacao touche durement les planteurs', 'Jeff Bezos lâche un peu les rênes d’Amazon', '« La pandémie de Covid-19 peut-elle accroître la productivité ? »', 'A New York, en pleine pandémie de Covid-19, la Cinquième Avenue rêve des Années folles', 'Edition : les auteurs américains vent debout contre le rachat de Simon & Schuster par Bertelsmann', 'Etats-Unis : un protectionnisme contre-productif', '« Les moyens de lutter contre l’extinction des espèces ne sont pas à la hauteur de l’émotion soulevée »', 'Les pistes de la France pour améliorer les termes de l’accord de libre-échange avec le Mercosur']\n"
     ]
    }
   ],
   "source": [
    "url_monde = \"https://www.lemonde.fr/economie-mondiale/\"\n",
    "\n",
    "wanted_list_monde = [\"Au Nigeria, le port de Lagos en proie à un « chaos absolu »\"]\n",
    "\n",
    "scraper_monde = AutoScraper()\n",
    "result_monde = scraper_monde.build(url_monde, wanted_list_monde)\n",
    "print(result_monde)"
   ]
  },
  {
   "cell_type": "markdown",
   "metadata": {},
   "source": [
    "## Sauvegarder le modèle"
   ]
  },
  {
   "cell_type": "code",
   "execution_count": 17,
   "metadata": {},
   "outputs": [],
   "source": [
    "# Il faut lui donner un chemin d'accès\n",
    "scraper.save('model_stackoverflow')"
   ]
  },
  {
   "cell_type": "code",
   "execution_count": 18,
   "metadata": {},
   "outputs": [],
   "source": [
    "# Chargement du modèle\n",
    "scraper.load('model_stackoverflow')"
   ]
  },
  {
   "cell_type": "markdown",
   "metadata": {},
   "source": [
    "## Liens ressources"
   ]
  },
  {
   "cell_type": "markdown",
   "metadata": {},
   "source": [
    "- [Github]('https://github.com/alirezamika/autoscraper')\n",
    "- [Exemples]('https://gist.github.com/alirezamika/72083221891eecd991bbc0a2a2467673')\n",
    "- [AutoScraper & Flask - Créer une API de n\\'importe quel site en moins de 5min]('https://betterprogramming.pub/autoscraper-and-flask-create-an-api-from-any-website-in-less-than-5-minutes-3f0f176fc4a3')"
   ]
  }
 ],
 "metadata": {
  "kernelspec": {
   "display_name": "Python 3",
   "language": "python",
   "name": "python3"
  },
  "language_info": {
   "codemirror_mode": {
    "name": "ipython",
    "version": 3
   },
   "file_extension": ".py",
   "mimetype": "text/x-python",
   "name": "python",
   "nbconvert_exporter": "python",
   "pygments_lexer": "ipython3",
   "version": "3.8.5"
  }
 },
 "nbformat": 4,
 "nbformat_minor": 2
}
