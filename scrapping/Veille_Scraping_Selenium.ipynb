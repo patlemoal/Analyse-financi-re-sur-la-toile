{
 "cells": [
  {
   "cell_type": "markdown",
   "metadata": {},
   "source": [
    "Sources :"
   ]
  },
  {
   "cell_type": "markdown",
   "metadata": {},
   "source": [
    "https://ledatascientist.com/web-scraping-python-avec-selenium/"
   ]
  },
  {
   "cell_type": "code",
   "execution_count": 1,
   "metadata": {},
   "outputs": [],
   "source": [
    "from time import sleep # fonction qui pause le script le temps des chargements de pages\n",
    "from selenium import webdriver # objet qui gère le navigateur utilisé par Selenium\n",
    "from selenium.webdriver.common.keys import Keys # classe permettant d'utiliser le clavier"
   ]
  },
  {
   "cell_type": "markdown",
   "metadata": {},
   "source": [
    "Instanciation du web-driver :"
   ]
  },
  {
   "cell_type": "code",
   "execution_count": 2,
   "metadata": {},
   "outputs": [],
   "source": [
    "# On crée une instance du web-driver Firefox et on va sur la page de eBay.fr\n",
    "driver = webdriver.Firefox(executable_path = \"C:\\geckodriver.exe\")\n",
    "driver.get(\"https://www.ebay.fr/\")\n",
    "# Il y a des alternatives pour les autres navigateurs :\n",
    "# webdriver.Chrome()\n",
    "\n",
    "sleep(10) # Selon la qualité de connexion et les perfs de la machine, temps d'attente nécessaire."
   ]
  },
  {
   "cell_type": "markdown",
   "metadata": {},
   "source": [
    "Simulation d'un utilisateur utilisant la barre de recherche du site et entrant la query \"iPhone\"."
   ]
  },
  {
   "cell_type": "code",
   "execution_count": 3,
   "metadata": {},
   "outputs": [],
   "source": [
    "search_bar = driver.find_element_by_name(\"_nkw\") # Récup de la barre\n",
    "search_bar.send_keys(\"iphone\") # Entrée au clavier de la recherche\n",
    "search_bar.send_keys(Keys.ENTER) # Validation au clavier"
   ]
  },
  {
   "cell_type": "markdown",
   "metadata": {},
   "source": [
    "Boucler sur toutes les pages de la recherche avec un flag is_last_page qui est activé lorsqu'on atteint la dernière page."
   ]
  },
  {
   "cell_type": "code",
   "execution_count": 4,
   "metadata": {},
   "outputs": [],
   "source": [
    "is_last_page = True\n",
    "\n",
    "while not is_last_page:\n",
    "\n",
    "    # On récupère une liste d'éléments correspondant à chaque résultat de recherche \n",
    "    offers = driver.find_elements_by_css_selector(\"div#ResultSetItems &amp;amp;amp;amp;amp;amp;gt; ul &amp;amp;amp;amp;amp;amp;gt; li.sresult\")\n",
    "\n",
    "    # Pour chaque résultat de recherche, on scrappe les infos (titre, image, prix):\n",
    "    for offer in offers:\n",
    "        title = offer.find_element_by_css_selector(\"h3.lvtitle a\").get_attribute(\"title\")\n",
    "        print(\"Titre : \",title)\n",
    "        image = offer.find_element_by_css_selector(\"div.lvpicinner img.img\").get_attribute(\"src\")\n",
    "        print(\"Image : \",image)\n",
    "        price = offer.find_element_by_css_selector(\"li.lvprice span\").text\n",
    "        print(\"Prix : \",price)\n",
    "        print(\"\")\n",
    "    \n",
    "    # On récupère l'élément de changement de page.\n",
    "    next_page = driver.find_element_by_css_selector(\"table#Pagination a.next\")\n",
    "\n",
    "    # Le flag is_last_page prend la valeur de l'attribut \"arial-disabled\" de l'élément next page\n",
    "    is_last_page = next_page.get_attribute(\"arial-disabled\")\n",
    "\n",
    "    # Si cet attribut est true (avec plusieurs graphies possibles), alors on switche le flag \n",
    "    # à True car il n'y a pas de page suivante.\n",
    "    if is_last_page == \"true\" or is_last_page == \"True\":\n",
    "        is_last_page = True\n",
    "    # Sinon, on clique sur l'élément pour aller à la page suivante et continuer le scrapping.\n",
    "    else:\n",
    "        next_page.click()\n",
    "    sleep(10) # Temps d'attente pour donner le temps au pc/navigateur."
   ]
  },
  {
   "cell_type": "code",
   "execution_count": null,
   "metadata": {},
   "outputs": [],
   "source": []
  },
  {
   "cell_type": "code",
   "execution_count": null,
   "metadata": {},
   "outputs": [],
   "source": []
  }
 ],
 "metadata": {
  "kernelspec": {
   "display_name": "Python 3",
   "language": "python",
   "name": "python3"
  },
  "language_info": {
   "codemirror_mode": {
    "name": "ipython",
    "version": 3
   },
   "file_extension": ".py",
   "mimetype": "text/x-python",
   "name": "python",
   "nbconvert_exporter": "python",
   "pygments_lexer": "ipython3",
   "version": "3.8.5"
  }
 },
 "nbformat": 4,
 "nbformat_minor": 4
}
